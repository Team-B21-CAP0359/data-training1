{
  "nbformat": 4,
  "nbformat_minor": 0,
  "metadata": {
    "colab": {
      "name": "classificationbasic.ipynb",
      "provenance": []
    },
    "kernelspec": {
      "name": "python3",
      "display_name": "Python 3"
    },
    "language_info": {
      "name": "python"
    }
  },
  "cells": [
    {
      "cell_type": "code",
      "metadata": {
        "colab": {
          "resources": {
            "http://localhost:8080/nbextensions/google.colab/files.js": {
              "data": "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",
              "ok": true,
              "headers": [
                [
                  "content-type",
                  "application/javascript"
                ]
              ],
              "status": 200,
              "status_text": ""
            }
          },
          "base_uri": "https://localhost:8080/",
          "height": 72
        },
        "id": "IzshrSALW6tV",
        "outputId": "e8ca021e-37db-4357-ce7f-171a818ea7e9"
      },
      "source": [
        "import pandas as pd\n",
        "import numpy as np\n",
        "import tensorflow as tf\n",
        "from sklearn.preprocessing import LabelEncoder\n",
        "from tensorflow.keras.utils import to_categorical\n",
        "from google.colab import files\n",
        "file=files.upload()"
      ],
      "execution_count": null,
      "outputs": [
        {
          "output_type": "display_data",
          "data": {
            "text/html": [
              "\n",
              "     <input type=\"file\" id=\"files-18b26853-5e53-4e2c-b0f8-beb685640755\" name=\"files[]\" multiple disabled\n",
              "        style=\"border:none\" />\n",
              "     <output id=\"result-18b26853-5e53-4e2c-b0f8-beb685640755\">\n",
              "      Upload widget is only available when the cell has been executed in the\n",
              "      current browser session. Please rerun this cell to enable.\n",
              "      </output>\n",
              "      <script src=\"/nbextensions/google.colab/files.js\"></script> "
            ],
            "text/plain": [
              "<IPython.core.display.HTML object>"
            ]
          },
          "metadata": {
            "tags": []
          }
        },
        {
          "output_type": "stream",
          "text": [
            "Saving percobaan_4.csv to percobaan_4 (1).csv\n"
          ],
          "name": "stdout"
        }
      ]
    },
    {
      "cell_type": "code",
      "metadata": {
        "id": "yTXr9o4gXG0U"
      },
      "source": [
        "df = pd.read_csv('percobaan_4.csv')"
      ],
      "execution_count": null,
      "outputs": []
    },
    {
      "cell_type": "code",
      "metadata": {
        "id": "7yGTbF8qXQbG"
      },
      "source": [
        "X = df.iloc[:, :3].values\n",
        "y = df.iloc[:, 3].values\n"
      ],
      "execution_count": null,
      "outputs": []
    },
    {
      "cell_type": "code",
      "metadata": {
        "id": "OO2fwiKbTvXB"
      },
      "source": [
        "le = LabelEncoder()\n",
        "\n",
        "y = le.fit_transform(y)\n",
        "y = to_categorical(y)"
      ],
      "execution_count": null,
      "outputs": []
    },
    {
      "cell_type": "code",
      "metadata": {
        "id": "pOOt4hYhX46k"
      },
      "source": [
        "from tensorflow.keras.layers import Dense\n",
        "from tensorflow.keras.models import Sequential"
      ],
      "execution_count": null,
      "outputs": []
    },
    {
      "cell_type": "code",
      "metadata": {
        "id": "jYJVGFIaUTNg"
      },
      "source": [
        "model = Sequential()\n",
        "\n",
        "model.add(Dense(64, activation='relu', input_shape=[3]))\n",
        "model.add(Dense(64))\n",
        "model.add(Dense(3, activation='softmax'))\n",
        "\n",
        "model.compile(optimizer='sgd', loss='categorical_crossentropy',\n",
        "              metrics=['acc'])"
      ],
      "execution_count": null,
      "outputs": []
    },
    {
      "cell_type": "code",
      "metadata": {
        "colab": {
          "base_uri": "https://localhost:8080/"
        },
        "id": "S_G7xkznUXnF",
        "outputId": "66ecceb6-c149-4f58-96dc-48349ad4619d"
      },
      "source": [
        "model.fit(X, y, epochs=200)"
      ],
      "execution_count": null,
      "outputs": [
        {
          "output_type": "stream",
          "text": [
            "Epoch 1/200\n",
            "7/7 [==============================] - 0s 2ms/step - loss: 32.5322 - acc: 0.4450\n",
            "Epoch 2/200\n",
            "7/7 [==============================] - 0s 2ms/step - loss: 0.8131 - acc: 0.7500\n",
            "Epoch 3/200\n",
            "7/7 [==============================] - 0s 2ms/step - loss: 0.4678 - acc: 0.8400\n",
            "Epoch 4/200\n",
            "7/7 [==============================] - 0s 2ms/step - loss: 0.6563 - acc: 0.7000\n",
            "Epoch 5/200\n",
            "7/7 [==============================] - 0s 2ms/step - loss: 0.4794 - acc: 0.8150\n",
            "Epoch 6/200\n",
            "7/7 [==============================] - 0s 2ms/step - loss: 0.4693 - acc: 0.8050\n",
            "Epoch 7/200\n",
            "7/7 [==============================] - 0s 2ms/step - loss: 0.4325 - acc: 0.8150\n",
            "Epoch 8/200\n",
            "7/7 [==============================] - 0s 2ms/step - loss: 0.3748 - acc: 0.8450\n",
            "Epoch 9/200\n",
            "7/7 [==============================] - 0s 2ms/step - loss: 0.4025 - acc: 0.8350\n",
            "Epoch 10/200\n",
            "7/7 [==============================] - 0s 2ms/step - loss: 0.4124 - acc: 0.8350\n",
            "Epoch 11/200\n",
            "7/7 [==============================] - 0s 2ms/step - loss: 0.4112 - acc: 0.8150\n",
            "Epoch 12/200\n",
            "7/7 [==============================] - 0s 2ms/step - loss: 0.5375 - acc: 0.7950\n",
            "Epoch 13/200\n",
            "7/7 [==============================] - 0s 2ms/step - loss: 0.3844 - acc: 0.8300\n",
            "Epoch 14/200\n",
            "7/7 [==============================] - 0s 2ms/step - loss: 0.3725 - acc: 0.8400\n",
            "Epoch 15/200\n",
            "7/7 [==============================] - 0s 2ms/step - loss: 0.3914 - acc: 0.8300\n",
            "Epoch 16/200\n",
            "7/7 [==============================] - 0s 2ms/step - loss: 0.4030 - acc: 0.8150\n",
            "Epoch 17/200\n",
            "7/7 [==============================] - 0s 2ms/step - loss: 0.4521 - acc: 0.7900\n",
            "Epoch 18/200\n",
            "7/7 [==============================] - 0s 2ms/step - loss: 0.3483 - acc: 0.8450\n",
            "Epoch 19/200\n",
            "7/7 [==============================] - 0s 3ms/step - loss: 0.3811 - acc: 0.8400\n",
            "Epoch 20/200\n",
            "7/7 [==============================] - 0s 2ms/step - loss: 0.3629 - acc: 0.8500\n",
            "Epoch 21/200\n",
            "7/7 [==============================] - 0s 2ms/step - loss: 0.3695 - acc: 0.8300\n",
            "Epoch 22/200\n",
            "7/7 [==============================] - 0s 2ms/step - loss: 0.3777 - acc: 0.8300\n",
            "Epoch 23/200\n",
            "7/7 [==============================] - 0s 2ms/step - loss: 0.3588 - acc: 0.8500\n",
            "Epoch 24/200\n",
            "7/7 [==============================] - 0s 2ms/step - loss: 0.3600 - acc: 0.8600\n",
            "Epoch 25/200\n",
            "7/7 [==============================] - 0s 2ms/step - loss: 0.3928 - acc: 0.8250\n",
            "Epoch 26/200\n",
            "7/7 [==============================] - 0s 2ms/step - loss: 0.3478 - acc: 0.8400\n",
            "Epoch 27/200\n",
            "7/7 [==============================] - 0s 3ms/step - loss: 0.3298 - acc: 0.8500\n",
            "Epoch 28/200\n",
            "7/7 [==============================] - 0s 2ms/step - loss: 0.3330 - acc: 0.8550\n",
            "Epoch 29/200\n",
            "7/7 [==============================] - 0s 2ms/step - loss: 0.3443 - acc: 0.8750\n",
            "Epoch 30/200\n",
            "7/7 [==============================] - 0s 3ms/step - loss: 0.3555 - acc: 0.8550\n",
            "Epoch 31/200\n",
            "7/7 [==============================] - 0s 3ms/step - loss: 0.3333 - acc: 0.8450\n",
            "Epoch 32/200\n",
            "7/7 [==============================] - 0s 2ms/step - loss: 0.3177 - acc: 0.8650\n",
            "Epoch 33/200\n",
            "7/7 [==============================] - 0s 2ms/step - loss: 0.3915 - acc: 0.8100\n",
            "Epoch 34/200\n",
            "7/7 [==============================] - 0s 2ms/step - loss: 0.3612 - acc: 0.8550\n",
            "Epoch 35/200\n",
            "7/7 [==============================] - 0s 2ms/step - loss: 0.3488 - acc: 0.8300\n",
            "Epoch 36/200\n",
            "7/7 [==============================] - 0s 3ms/step - loss: 0.3629 - acc: 0.8300\n",
            "Epoch 37/200\n",
            "7/7 [==============================] - 0s 2ms/step - loss: 0.3442 - acc: 0.8500\n",
            "Epoch 38/200\n",
            "7/7 [==============================] - 0s 2ms/step - loss: 0.3643 - acc: 0.8250\n",
            "Epoch 39/200\n",
            "7/7 [==============================] - 0s 2ms/step - loss: 0.3447 - acc: 0.8400\n",
            "Epoch 40/200\n",
            "7/7 [==============================] - 0s 2ms/step - loss: 0.3273 - acc: 0.8400\n",
            "Epoch 41/200\n",
            "7/7 [==============================] - 0s 2ms/step - loss: 0.3261 - acc: 0.8550\n",
            "Epoch 42/200\n",
            "7/7 [==============================] - 0s 2ms/step - loss: 0.3381 - acc: 0.8450\n",
            "Epoch 43/200\n",
            "7/7 [==============================] - 0s 2ms/step - loss: 0.3593 - acc: 0.8500\n",
            "Epoch 44/200\n",
            "7/7 [==============================] - 0s 2ms/step - loss: 0.3250 - acc: 0.8600\n",
            "Epoch 45/200\n",
            "7/7 [==============================] - 0s 2ms/step - loss: 0.3605 - acc: 0.8400\n",
            "Epoch 46/200\n",
            "7/7 [==============================] - 0s 2ms/step - loss: 0.3318 - acc: 0.8500\n",
            "Epoch 47/200\n",
            "7/7 [==============================] - 0s 3ms/step - loss: 0.3094 - acc: 0.8700\n",
            "Epoch 48/200\n",
            "7/7 [==============================] - 0s 3ms/step - loss: 0.3428 - acc: 0.8600\n",
            "Epoch 49/200\n",
            "7/7 [==============================] - 0s 3ms/step - loss: 0.3511 - acc: 0.8450\n",
            "Epoch 50/200\n",
            "7/7 [==============================] - 0s 2ms/step - loss: 0.4187 - acc: 0.8000\n",
            "Epoch 51/200\n",
            "7/7 [==============================] - 0s 3ms/step - loss: 0.3573 - acc: 0.8350\n",
            "Epoch 52/200\n",
            "7/7 [==============================] - 0s 2ms/step - loss: 0.3503 - acc: 0.8100\n",
            "Epoch 53/200\n",
            "7/7 [==============================] - 0s 3ms/step - loss: 0.3234 - acc: 0.8450\n",
            "Epoch 54/200\n",
            "7/7 [==============================] - 0s 2ms/step - loss: 0.4130 - acc: 0.8200\n",
            "Epoch 55/200\n",
            "7/7 [==============================] - 0s 2ms/step - loss: 0.3391 - acc: 0.8800\n",
            "Epoch 56/200\n",
            "7/7 [==============================] - 0s 2ms/step - loss: 0.3225 - acc: 0.8700\n",
            "Epoch 57/200\n",
            "7/7 [==============================] - 0s 3ms/step - loss: 0.3267 - acc: 0.8600\n",
            "Epoch 58/200\n",
            "7/7 [==============================] - 0s 3ms/step - loss: 0.3208 - acc: 0.8600\n",
            "Epoch 59/200\n",
            "7/7 [==============================] - 0s 2ms/step - loss: 0.3731 - acc: 0.8500\n",
            "Epoch 60/200\n",
            "7/7 [==============================] - 0s 2ms/step - loss: 0.3121 - acc: 0.8650\n",
            "Epoch 61/200\n",
            "7/7 [==============================] - 0s 2ms/step - loss: 0.3203 - acc: 0.8450\n",
            "Epoch 62/200\n",
            "7/7 [==============================] - 0s 2ms/step - loss: 0.3343 - acc: 0.8300\n",
            "Epoch 63/200\n",
            "7/7 [==============================] - 0s 2ms/step - loss: 0.3342 - acc: 0.8750\n",
            "Epoch 64/200\n",
            "7/7 [==============================] - 0s 2ms/step - loss: 0.3137 - acc: 0.8750\n",
            "Epoch 65/200\n",
            "7/7 [==============================] - 0s 3ms/step - loss: 0.3164 - acc: 0.8550\n",
            "Epoch 66/200\n",
            "7/7 [==============================] - 0s 2ms/step - loss: 0.3184 - acc: 0.8600\n",
            "Epoch 67/200\n",
            "7/7 [==============================] - 0s 3ms/step - loss: 0.3728 - acc: 0.8150\n",
            "Epoch 68/200\n",
            "7/7 [==============================] - 0s 2ms/step - loss: 0.3716 - acc: 0.8450\n",
            "Epoch 69/200\n",
            "7/7 [==============================] - 0s 2ms/step - loss: 0.3100 - acc: 0.8600\n",
            "Epoch 70/200\n",
            "7/7 [==============================] - 0s 2ms/step - loss: 0.3176 - acc: 0.8700\n",
            "Epoch 71/200\n",
            "7/7 [==============================] - 0s 2ms/step - loss: 0.3585 - acc: 0.8250\n",
            "Epoch 72/200\n",
            "7/7 [==============================] - 0s 2ms/step - loss: 0.3115 - acc: 0.8700\n",
            "Epoch 73/200\n",
            "7/7 [==============================] - 0s 3ms/step - loss: 0.3043 - acc: 0.8600\n",
            "Epoch 74/200\n",
            "7/7 [==============================] - 0s 2ms/step - loss: 0.3302 - acc: 0.8600\n",
            "Epoch 75/200\n",
            "7/7 [==============================] - 0s 2ms/step - loss: 0.3023 - acc: 0.8450\n",
            "Epoch 76/200\n",
            "7/7 [==============================] - 0s 2ms/step - loss: 0.3057 - acc: 0.8500\n",
            "Epoch 77/200\n",
            "7/7 [==============================] - 0s 2ms/step - loss: 0.3080 - acc: 0.8700\n",
            "Epoch 78/200\n",
            "7/7 [==============================] - 0s 2ms/step - loss: 0.3414 - acc: 0.8250\n",
            "Epoch 79/200\n",
            "7/7 [==============================] - 0s 2ms/step - loss: 0.3080 - acc: 0.8550\n",
            "Epoch 80/200\n",
            "7/7 [==============================] - 0s 2ms/step - loss: 0.2982 - acc: 0.8700\n",
            "Epoch 81/200\n",
            "7/7 [==============================] - 0s 2ms/step - loss: 0.3147 - acc: 0.8550\n",
            "Epoch 82/200\n",
            "7/7 [==============================] - 0s 2ms/step - loss: 0.3048 - acc: 0.8750\n",
            "Epoch 83/200\n",
            "7/7 [==============================] - 0s 2ms/step - loss: 0.3216 - acc: 0.8450\n",
            "Epoch 84/200\n",
            "7/7 [==============================] - 0s 2ms/step - loss: 0.3054 - acc: 0.8650\n",
            "Epoch 85/200\n",
            "7/7 [==============================] - 0s 3ms/step - loss: 0.3008 - acc: 0.8550\n",
            "Epoch 86/200\n",
            "7/7 [==============================] - 0s 2ms/step - loss: 0.3578 - acc: 0.8500\n",
            "Epoch 87/200\n",
            "7/7 [==============================] - 0s 2ms/step - loss: 0.3101 - acc: 0.8550\n",
            "Epoch 88/200\n",
            "7/7 [==============================] - 0s 2ms/step - loss: 0.2956 - acc: 0.8600\n",
            "Epoch 89/200\n",
            "7/7 [==============================] - 0s 2ms/step - loss: 0.3275 - acc: 0.8300\n",
            "Epoch 90/200\n",
            "7/7 [==============================] - 0s 2ms/step - loss: 0.3056 - acc: 0.8600\n",
            "Epoch 91/200\n",
            "7/7 [==============================] - 0s 2ms/step - loss: 0.2801 - acc: 0.8550\n",
            "Epoch 92/200\n",
            "7/7 [==============================] - 0s 2ms/step - loss: 0.3199 - acc: 0.8500\n",
            "Epoch 93/200\n",
            "7/7 [==============================] - 0s 3ms/step - loss: 0.2854 - acc: 0.8550\n",
            "Epoch 94/200\n",
            "7/7 [==============================] - 0s 2ms/step - loss: 0.3100 - acc: 0.8350\n",
            "Epoch 95/200\n",
            "7/7 [==============================] - 0s 2ms/step - loss: 0.3636 - acc: 0.8750\n",
            "Epoch 96/200\n",
            "7/7 [==============================] - 0s 3ms/step - loss: 0.3138 - acc: 0.8550\n",
            "Epoch 97/200\n",
            "7/7 [==============================] - 0s 3ms/step - loss: 0.2937 - acc: 0.8600\n",
            "Epoch 98/200\n",
            "7/7 [==============================] - 0s 2ms/step - loss: 0.2962 - acc: 0.8550\n",
            "Epoch 99/200\n",
            "7/7 [==============================] - 0s 2ms/step - loss: 0.2882 - acc: 0.8650\n",
            "Epoch 100/200\n",
            "7/7 [==============================] - 0s 2ms/step - loss: 0.3262 - acc: 0.8350\n",
            "Epoch 101/200\n",
            "7/7 [==============================] - 0s 2ms/step - loss: 0.3103 - acc: 0.8500\n",
            "Epoch 102/200\n",
            "7/7 [==============================] - 0s 2ms/step - loss: 0.3201 - acc: 0.8550\n",
            "Epoch 103/200\n",
            "7/7 [==============================] - 0s 2ms/step - loss: 0.2919 - acc: 0.8700\n",
            "Epoch 104/200\n",
            "7/7 [==============================] - 0s 3ms/step - loss: 0.2812 - acc: 0.8700\n",
            "Epoch 105/200\n",
            "7/7 [==============================] - 0s 2ms/step - loss: 0.2906 - acc: 0.8600\n",
            "Epoch 106/200\n",
            "7/7 [==============================] - 0s 3ms/step - loss: 0.2817 - acc: 0.8600\n",
            "Epoch 107/200\n",
            "7/7 [==============================] - 0s 2ms/step - loss: 0.3841 - acc: 0.8400\n",
            "Epoch 108/200\n",
            "7/7 [==============================] - 0s 2ms/step - loss: 0.3200 - acc: 0.8550\n",
            "Epoch 109/200\n",
            "7/7 [==============================] - 0s 2ms/step - loss: 0.2977 - acc: 0.8700\n",
            "Epoch 110/200\n",
            "7/7 [==============================] - 0s 2ms/step - loss: 0.3295 - acc: 0.8300\n",
            "Epoch 111/200\n",
            "7/7 [==============================] - 0s 2ms/step - loss: 0.2901 - acc: 0.8700\n",
            "Epoch 112/200\n",
            "7/7 [==============================] - 0s 2ms/step - loss: 0.2977 - acc: 0.8550\n",
            "Epoch 113/200\n",
            "7/7 [==============================] - 0s 2ms/step - loss: 0.2964 - acc: 0.8550\n",
            "Epoch 114/200\n",
            "7/7 [==============================] - 0s 2ms/step - loss: 0.3245 - acc: 0.8300\n",
            "Epoch 115/200\n",
            "7/7 [==============================] - 0s 2ms/step - loss: 0.3128 - acc: 0.8700\n",
            "Epoch 116/200\n",
            "7/7 [==============================] - 0s 2ms/step - loss: 0.3022 - acc: 0.8700\n",
            "Epoch 117/200\n",
            "7/7 [==============================] - 0s 2ms/step - loss: 0.2830 - acc: 0.8600\n",
            "Epoch 118/200\n",
            "7/7 [==============================] - 0s 2ms/step - loss: 0.3055 - acc: 0.8800\n",
            "Epoch 119/200\n",
            "7/7 [==============================] - 0s 2ms/step - loss: 0.2691 - acc: 0.8700\n",
            "Epoch 120/200\n",
            "7/7 [==============================] - 0s 2ms/step - loss: 0.2744 - acc: 0.8800\n",
            "Epoch 121/200\n",
            "7/7 [==============================] - 0s 2ms/step - loss: 0.3186 - acc: 0.8300\n",
            "Epoch 122/200\n",
            "7/7 [==============================] - 0s 3ms/step - loss: 0.3220 - acc: 0.8450\n",
            "Epoch 123/200\n",
            "7/7 [==============================] - 0s 2ms/step - loss: 0.2788 - acc: 0.8850\n",
            "Epoch 124/200\n",
            "7/7 [==============================] - 0s 3ms/step - loss: 0.3055 - acc: 0.8550\n",
            "Epoch 125/200\n",
            "7/7 [==============================] - 0s 2ms/step - loss: 0.2811 - acc: 0.8600\n",
            "Epoch 126/200\n",
            "7/7 [==============================] - 0s 2ms/step - loss: 0.2810 - acc: 0.8800\n",
            "Epoch 127/200\n",
            "7/7 [==============================] - 0s 2ms/step - loss: 0.2999 - acc: 0.8550\n",
            "Epoch 128/200\n",
            "7/7 [==============================] - 0s 2ms/step - loss: 0.3011 - acc: 0.8650\n",
            "Epoch 129/200\n",
            "7/7 [==============================] - 0s 2ms/step - loss: 0.2778 - acc: 0.8550\n",
            "Epoch 130/200\n",
            "7/7 [==============================] - 0s 2ms/step - loss: 0.2822 - acc: 0.8750\n",
            "Epoch 131/200\n",
            "7/7 [==============================] - 0s 2ms/step - loss: 0.3049 - acc: 0.8450\n",
            "Epoch 132/200\n",
            "7/7 [==============================] - 0s 2ms/step - loss: 0.2700 - acc: 0.8650\n",
            "Epoch 133/200\n",
            "7/7 [==============================] - 0s 2ms/step - loss: 0.3025 - acc: 0.8400\n",
            "Epoch 134/200\n",
            "7/7 [==============================] - 0s 3ms/step - loss: 0.2820 - acc: 0.8700\n",
            "Epoch 135/200\n",
            "7/7 [==============================] - 0s 2ms/step - loss: 0.2650 - acc: 0.8850\n",
            "Epoch 136/200\n",
            "7/7 [==============================] - 0s 3ms/step - loss: 0.2793 - acc: 0.8600\n",
            "Epoch 137/200\n",
            "7/7 [==============================] - 0s 2ms/step - loss: 0.2906 - acc: 0.8700\n",
            "Epoch 138/200\n",
            "7/7 [==============================] - 0s 2ms/step - loss: 0.4257 - acc: 0.8250\n",
            "Epoch 139/200\n",
            "7/7 [==============================] - 0s 2ms/step - loss: 0.3043 - acc: 0.8750\n",
            "Epoch 140/200\n",
            "7/7 [==============================] - 0s 2ms/step - loss: 0.2989 - acc: 0.8450\n",
            "Epoch 141/200\n",
            "7/7 [==============================] - 0s 3ms/step - loss: 0.2720 - acc: 0.8700\n",
            "Epoch 142/200\n",
            "7/7 [==============================] - 0s 2ms/step - loss: 0.2822 - acc: 0.8800\n",
            "Epoch 143/200\n",
            "7/7 [==============================] - 0s 3ms/step - loss: 0.3130 - acc: 0.8750\n",
            "Epoch 144/200\n",
            "7/7 [==============================] - 0s 3ms/step - loss: 0.2666 - acc: 0.8650\n",
            "Epoch 145/200\n",
            "7/7 [==============================] - 0s 2ms/step - loss: 0.2738 - acc: 0.8600\n",
            "Epoch 146/200\n",
            "7/7 [==============================] - 0s 2ms/step - loss: 0.3139 - acc: 0.8550\n",
            "Epoch 147/200\n",
            "7/7 [==============================] - 0s 2ms/step - loss: 0.3766 - acc: 0.8200\n",
            "Epoch 148/200\n",
            "7/7 [==============================] - 0s 2ms/step - loss: 0.2833 - acc: 0.8300\n",
            "Epoch 149/200\n",
            "7/7 [==============================] - 0s 2ms/step - loss: 0.2847 - acc: 0.8500\n",
            "Epoch 150/200\n",
            "7/7 [==============================] - 0s 2ms/step - loss: 0.2803 - acc: 0.8750\n",
            "Epoch 151/200\n",
            "7/7 [==============================] - 0s 2ms/step - loss: 0.2737 - acc: 0.8500\n",
            "Epoch 152/200\n",
            "7/7 [==============================] - 0s 2ms/step - loss: 0.2609 - acc: 0.8750\n",
            "Epoch 153/200\n",
            "7/7 [==============================] - 0s 3ms/step - loss: 0.2711 - acc: 0.8550\n",
            "Epoch 154/200\n",
            "7/7 [==============================] - 0s 2ms/step - loss: 0.3695 - acc: 0.8550\n",
            "Epoch 155/200\n",
            "7/7 [==============================] - 0s 2ms/step - loss: 0.2825 - acc: 0.8850\n",
            "Epoch 156/200\n",
            "7/7 [==============================] - 0s 2ms/step - loss: 0.2807 - acc: 0.8650\n",
            "Epoch 157/200\n",
            "7/7 [==============================] - 0s 2ms/step - loss: 0.2825 - acc: 0.8750\n",
            "Epoch 158/200\n",
            "7/7 [==============================] - 0s 2ms/step - loss: 0.2662 - acc: 0.8850\n",
            "Epoch 159/200\n",
            "7/7 [==============================] - 0s 2ms/step - loss: 0.3165 - acc: 0.8400\n",
            "Epoch 160/200\n",
            "7/7 [==============================] - 0s 2ms/step - loss: 0.2668 - acc: 0.8800\n",
            "Epoch 161/200\n",
            "7/7 [==============================] - 0s 2ms/step - loss: 0.2767 - acc: 0.8700\n",
            "Epoch 162/200\n",
            "7/7 [==============================] - 0s 2ms/step - loss: 0.2803 - acc: 0.8900\n",
            "Epoch 163/200\n",
            "7/7 [==============================] - 0s 2ms/step - loss: 0.2964 - acc: 0.8800\n",
            "Epoch 164/200\n",
            "7/7 [==============================] - 0s 2ms/step - loss: 0.2871 - acc: 0.8750\n",
            "Epoch 165/200\n",
            "7/7 [==============================] - 0s 3ms/step - loss: 0.2874 - acc: 0.8550\n",
            "Epoch 166/200\n",
            "7/7 [==============================] - 0s 2ms/step - loss: 0.3889 - acc: 0.8500\n",
            "Epoch 167/200\n",
            "7/7 [==============================] - 0s 2ms/step - loss: 0.2757 - acc: 0.8600\n",
            "Epoch 168/200\n",
            "7/7 [==============================] - 0s 3ms/step - loss: 0.2778 - acc: 0.8550\n",
            "Epoch 169/200\n",
            "7/7 [==============================] - 0s 2ms/step - loss: 0.2534 - acc: 0.8850\n",
            "Epoch 170/200\n",
            "7/7 [==============================] - 0s 2ms/step - loss: 0.3481 - acc: 0.8400\n",
            "Epoch 171/200\n",
            "7/7 [==============================] - 0s 2ms/step - loss: 0.2656 - acc: 0.8750\n",
            "Epoch 172/200\n",
            "7/7 [==============================] - 0s 2ms/step - loss: 0.2691 - acc: 0.8750\n",
            "Epoch 173/200\n",
            "7/7 [==============================] - 0s 3ms/step - loss: 0.2689 - acc: 0.8600\n",
            "Epoch 174/200\n",
            "7/7 [==============================] - 0s 2ms/step - loss: 0.2792 - acc: 0.8800\n",
            "Epoch 175/200\n",
            "7/7 [==============================] - 0s 2ms/step - loss: 0.3061 - acc: 0.8800\n",
            "Epoch 176/200\n",
            "7/7 [==============================] - 0s 2ms/step - loss: 0.2598 - acc: 0.8650\n",
            "Epoch 177/200\n",
            "7/7 [==============================] - 0s 2ms/step - loss: 0.3237 - acc: 0.8650\n",
            "Epoch 178/200\n",
            "7/7 [==============================] - 0s 2ms/step - loss: 0.2893 - acc: 0.8650\n",
            "Epoch 179/200\n",
            "7/7 [==============================] - 0s 3ms/step - loss: 0.3290 - acc: 0.8750\n",
            "Epoch 180/200\n",
            "7/7 [==============================] - 0s 2ms/step - loss: 0.3540 - acc: 0.8300\n",
            "Epoch 181/200\n",
            "7/7 [==============================] - 0s 3ms/step - loss: 0.2717 - acc: 0.8750\n",
            "Epoch 182/200\n",
            "7/7 [==============================] - 0s 2ms/step - loss: 0.2676 - acc: 0.8950\n",
            "Epoch 183/200\n",
            "7/7 [==============================] - 0s 2ms/step - loss: 0.2727 - acc: 0.8750\n",
            "Epoch 184/200\n",
            "7/7 [==============================] - 0s 2ms/step - loss: 0.3751 - acc: 0.8400\n",
            "Epoch 185/200\n",
            "7/7 [==============================] - 0s 3ms/step - loss: 0.2661 - acc: 0.8700\n",
            "Epoch 186/200\n",
            "7/7 [==============================] - 0s 2ms/step - loss: 0.2766 - acc: 0.8750\n",
            "Epoch 187/200\n",
            "7/7 [==============================] - 0s 2ms/step - loss: 0.2734 - acc: 0.8850\n",
            "Epoch 188/200\n",
            "7/7 [==============================] - 0s 2ms/step - loss: 0.2521 - acc: 0.8900\n",
            "Epoch 189/200\n",
            "7/7 [==============================] - 0s 2ms/step - loss: 0.2586 - acc: 0.8850\n",
            "Epoch 190/200\n",
            "7/7 [==============================] - 0s 3ms/step - loss: 0.2626 - acc: 0.8800\n",
            "Epoch 191/200\n",
            "7/7 [==============================] - 0s 2ms/step - loss: 0.2678 - acc: 0.8650\n",
            "Epoch 192/200\n",
            "7/7 [==============================] - 0s 2ms/step - loss: 0.3145 - acc: 0.8350\n",
            "Epoch 193/200\n",
            "7/7 [==============================] - 0s 2ms/step - loss: 0.3430 - acc: 0.8550\n",
            "Epoch 194/200\n",
            "7/7 [==============================] - 0s 2ms/step - loss: 0.3377 - acc: 0.8550\n",
            "Epoch 195/200\n",
            "7/7 [==============================] - 0s 2ms/step - loss: 0.2581 - acc: 0.8900\n",
            "Epoch 196/200\n",
            "7/7 [==============================] - 0s 2ms/step - loss: 0.2464 - acc: 0.9000\n",
            "Epoch 197/200\n",
            "7/7 [==============================] - 0s 2ms/step - loss: 0.2877 - acc: 0.8600\n",
            "Epoch 198/200\n",
            "7/7 [==============================] - 0s 2ms/step - loss: 0.2705 - acc: 0.8900\n",
            "Epoch 199/200\n",
            "7/7 [==============================] - 0s 2ms/step - loss: 0.3022 - acc: 0.8500\n",
            "Epoch 200/200\n",
            "7/7 [==============================] - 0s 2ms/step - loss: 0.2588 - acc: 0.9000\n"
          ],
          "name": "stdout"
        },
        {
          "output_type": "execute_result",
          "data": {
            "text/plain": [
              "<tensorflow.python.keras.callbacks.History at 0x7f5275126e90>"
            ]
          },
          "metadata": {
            "tags": []
          },
          "execution_count": 43
        }
      ]
    },
    {
      "cell_type": "code",
      "metadata": {
        "id": "bvRYQ8kSYRCn",
        "colab": {
          "base_uri": "https://localhost:8080/"
        },
        "outputId": "e57a1cb2-4d24-4eed-ab5a-202572545a4b"
      },
      "source": [
        "from tensorflow import lite\n",
        "converter = lite.TFLiteConverter.from_keras_model(model)\n",
        "\n",
        "tfmodel = converter.convert()\n",
        "\n",
        "open('mall.tflite', 'wb').write(tfmodel)"
      ],
      "execution_count": null,
      "outputs": [
        {
          "output_type": "stream",
          "text": [
            "INFO:tensorflow:Assets written to: /tmp/tmpipqbercn/assets\n"
          ],
          "name": "stdout"
        },
        {
          "output_type": "stream",
          "text": [
            "INFO:tensorflow:Assets written to: /tmp/tmpipqbercn/assets\n"
          ],
          "name": "stderr"
        },
        {
          "output_type": "execute_result",
          "data": {
            "text/plain": [
              "20232"
            ]
          },
          "metadata": {
            "tags": []
          },
          "execution_count": 45
        }
      ]
    },
    {
      "cell_type": "code",
      "metadata": {
        "id": "WujeEIJRZBZP"
      },
      "source": [
        ""
      ],
      "execution_count": null,
      "outputs": []
    }
  ]
}